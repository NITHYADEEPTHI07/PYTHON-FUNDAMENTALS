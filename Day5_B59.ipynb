{
 "cells": [
  {
   "cell_type": "code",
   "execution_count": null,
   "id": "b1c39f02",
   "metadata": {},
   "outputs": [],
   "source": [
    "ORGANISING THE LIST DATATYPE"
   ]
  },
  {
   "cell_type": "code",
   "execution_count": 1,
   "id": "7693fbe1",
   "metadata": {},
   "outputs": [
    {
     "name": "stdout",
     "output_type": "stream",
     "text": [
      "['Ammu', 'veda', 'Asna', 'Jinu', 'Rafi', 'Anu']\n"
     ]
    }
   ],
   "source": [
    "Students = ['Ammu','veda','Asna','Jinu','Rafi','Anu']\n",
    "print(Students)"
   ]
  },
  {
   "cell_type": "code",
   "execution_count": null,
   "id": "48336031",
   "metadata": {},
   "outputs": [],
   "source": [
    "To print the name 'veda 'from the list: "
   ]
  },
  {
   "cell_type": "code",
   "execution_count": 2,
   "id": "ca6fb690",
   "metadata": {},
   "outputs": [
    {
     "name": "stdout",
     "output_type": "stream",
     "text": [
      "veda\n"
     ]
    }
   ],
   "source": [
    "print(Students[1])"
   ]
  },
  {
   "cell_type": "code",
   "execution_count": null,
   "id": "dd50cfc7",
   "metadata": {},
   "outputs": [],
   "source": [
    "To print the name 'veda in a standard format':"
   ]
  },
  {
   "cell_type": "code",
   "execution_count": 3,
   "id": "eadcbefc",
   "metadata": {},
   "outputs": [
    {
     "name": "stdout",
     "output_type": "stream",
     "text": [
      "Veda\n"
     ]
    }
   ],
   "source": [
    "print(Students[1].title())"
   ]
  },
  {
   "cell_type": "code",
   "execution_count": null,
   "id": "f6e042ba",
   "metadata": {},
   "outputs": [],
   "source": [
    "TO PRINT A LIST IN ALPHABETICAL ORDER WE HAVE TWO APPROACHES:\n",
    "    1- TEMPORARY APPROACH > SORTED:HERE WE CAN RETAIN THE ORGINAL ORDER OF THE LIST\n",
    "    2- PERMANENT APPROACH > SORT  :HERE CHANGES ARE APPLIED PERMANENTLY SO THAT WE CANNOT RETAIN THE ORGINAL ORDER OF THE LIST"
   ]
  },
  {
   "cell_type": "code",
   "execution_count": null,
   "id": "82043f69",
   "metadata": {},
   "outputs": [],
   "source": [
    "SORTED"
   ]
  },
  {
   "cell_type": "code",
   "execution_count": 7,
   "id": "803454ea",
   "metadata": {},
   "outputs": [
    {
     "name": "stdout",
     "output_type": "stream",
     "text": [
      "['Kia', 'Bmw', 'Skoda', 'Ciaz', 'Benz']\n"
     ]
    }
   ],
   "source": [
    "Cars = ['Kia','Bmw','Skoda','Ciaz','Benz']\n",
    "print(Cars)"
   ]
  },
  {
   "cell_type": "code",
   "execution_count": 8,
   "id": "faa2f91c",
   "metadata": {},
   "outputs": [
    {
     "name": "stdout",
     "output_type": "stream",
     "text": [
      "['Benz', 'Bmw', 'Ciaz', 'Kia', 'Skoda']\n"
     ]
    }
   ],
   "source": [
    "print(sorted(Cars))"
   ]
  },
  {
   "cell_type": "code",
   "execution_count": 9,
   "id": "f7e5fdd8",
   "metadata": {},
   "outputs": [
    {
     "name": "stdout",
     "output_type": "stream",
     "text": [
      "['Kia', 'Bmw', 'Skoda', 'Ciaz', 'Benz']\n"
     ]
    }
   ],
   "source": [
    "print(Cars)"
   ]
  },
  {
   "cell_type": "code",
   "execution_count": null,
   "id": "e8e5aca1",
   "metadata": {},
   "outputs": [],
   "source": [
    "The orginal order is maintained here ."
   ]
  },
  {
   "cell_type": "code",
   "execution_count": null,
   "id": "1bf163dc",
   "metadata": {},
   "outputs": [],
   "source": [
    "SORT"
   ]
  },
  {
   "cell_type": "code",
   "execution_count": 12,
   "id": "7c72e67e",
   "metadata": {},
   "outputs": [
    {
     "name": "stdout",
     "output_type": "stream",
     "text": [
      "['Benz', 'Bmw', 'Ciaz', 'Kia', 'Skoda']\n"
     ]
    }
   ],
   "source": [
    "Cars.sort()\n",
    "print(Cars)"
   ]
  },
  {
   "cell_type": "code",
   "execution_count": 13,
   "id": "093742f3",
   "metadata": {},
   "outputs": [
    {
     "name": "stdout",
     "output_type": "stream",
     "text": [
      "['Benz', 'Bmw', 'Ciaz', 'Kia', 'Skoda']\n"
     ]
    }
   ],
   "source": [
    "print(Cars)"
   ]
  },
  {
   "cell_type": "code",
   "execution_count": null,
   "id": "ec8fdf68",
   "metadata": {},
   "outputs": [],
   "source": [
    "The orginal order is changed permanently by using SORT"
   ]
  },
  {
   "cell_type": "code",
   "execution_count": null,
   "id": "30e02672",
   "metadata": {},
   "outputs": [],
   "source": [
    "What is the difference between Sorted & Sort method in a list?\n",
    "    \n",
    "          Both Sorted & Sort methods are used to arrange the List in alphabetical order.The difference is that in Sorted the\n",
    "list is changed temporarly and the orginal list is maintained.But in Sort the list is changed permanently in alphabetical \n",
    "order."
   ]
  },
  {
   "cell_type": "code",
   "execution_count": null,
   "id": "bbd8d213",
   "metadata": {},
   "outputs": [],
   "source": [
    "TO PRINT THE LIST IN REVERSE ORDER WE USE reverse() METHOD"
   ]
  },
  {
   "cell_type": "code",
   "execution_count": 14,
   "id": "284f28d7",
   "metadata": {},
   "outputs": [
    {
     "name": "stdout",
     "output_type": "stream",
     "text": [
      "['Benz', 'Bmw', 'Ciaz', 'Kia', 'Skoda']\n"
     ]
    }
   ],
   "source": [
    "print(Cars)"
   ]
  },
  {
   "cell_type": "code",
   "execution_count": 15,
   "id": "afd8f4e1",
   "metadata": {},
   "outputs": [
    {
     "name": "stdout",
     "output_type": "stream",
     "text": [
      "['Skoda', 'Kia', 'Ciaz', 'Bmw', 'Benz']\n"
     ]
    }
   ],
   "source": [
    "Cars.reverse()\n",
    "print(Cars)"
   ]
  },
  {
   "cell_type": "code",
   "execution_count": null,
   "id": "f3bb23cd",
   "metadata": {},
   "outputs": [],
   "source": [
    "TO COUNT THE NUMBER OF ELEMENTS PRESENT IN THE LIST WE USE len() method"
   ]
  },
  {
   "cell_type": "code",
   "execution_count": 16,
   "id": "581b81cf",
   "metadata": {},
   "outputs": [
    {
     "data": {
      "text/plain": [
       "5"
      ]
     },
     "execution_count": 16,
     "metadata": {},
     "output_type": "execute_result"
    }
   ],
   "source": [
    "len(Cars)"
   ]
  },
  {
   "cell_type": "code",
   "execution_count": null,
   "id": "4da2e237",
   "metadata": {},
   "outputs": [],
   "source": [
    "SLICING OF THE LIST DATATYPE:\n",
    "    GENERAL SYNTAX: print(list(startvalue:stopvalue:stepcount))\n",
    "    START VALUE > Start Value is the index number of the first element in the list that we have to print first\n",
    "    STOP VALUE  > Stop Value is the index value of the last element +1.\n",
    "                  Stop Value is always exclusive .So inorder to include stop value in the printed list we have to increment 1.\n",
    "    STEP COUNT  > Every step count numbered element will be eliminated from the List .For Eg: If the step count is 2,then every \n",
    "                  2 nd element will be eliminated from the list"
   ]
  },
  {
   "cell_type": "code",
   "execution_count": 17,
   "id": "61d87080",
   "metadata": {},
   "outputs": [
    {
     "name": "stdout",
     "output_type": "stream",
     "text": [
      "['Ammu', 'veda', 'Asna', 'Jinu', 'Rafi', 'Anu']\n"
     ]
    }
   ],
   "source": [
    "print(Students)"
   ]
  },
  {
   "cell_type": "code",
   "execution_count": null,
   "id": "9554f9bc",
   "metadata": {},
   "outputs": [],
   "source": [
    "We have to include Ammu & Veda in a list:\n",
    "    Index no: of Ammu is zero and that of veda is 1 "
   ]
  },
  {
   "cell_type": "code",
   "execution_count": 19,
   "id": "4ace1222",
   "metadata": {},
   "outputs": [
    {
     "name": "stdout",
     "output_type": "stream",
     "text": [
      "['Ammu']\n"
     ]
    }
   ],
   "source": [
    "print(Students[0:1])"
   ]
  },
  {
   "cell_type": "code",
   "execution_count": null,
   "id": "33f670d5",
   "metadata": {},
   "outputs": [],
   "source": [
    "Only Ammu is displayed because Stop value is always excuded .So we have to increment 1 ie, 0 & 1+1 =2"
   ]
  },
  {
   "cell_type": "code",
   "execution_count": 24,
   "id": "6b7bb858",
   "metadata": {},
   "outputs": [
    {
     "name": "stdout",
     "output_type": "stream",
     "text": [
      "['Ammu', 'veda']\n"
     ]
    }
   ],
   "source": [
    "print(Students[0:2])"
   ]
  },
  {
   "cell_type": "code",
   "execution_count": null,
   "id": "0c0d8859",
   "metadata": {},
   "outputs": [],
   "source": [
    "To include Jinu & Rafi in a list:"
   ]
  },
  {
   "cell_type": "code",
   "execution_count": 25,
   "id": "0ae404bd",
   "metadata": {},
   "outputs": [
    {
     "name": "stdout",
     "output_type": "stream",
     "text": [
      "['Jinu', 'Rafi']\n"
     ]
    }
   ],
   "source": [
    "print(Students[3:5])"
   ]
  },
  {
   "cell_type": "code",
   "execution_count": null,
   "id": "56bddcdc",
   "metadata": {},
   "outputs": [],
   "source": [
    "TO INCLUDE ALL ALTERNATE STUDENTS IN A LIST:\n",
    "    HERE WE USE STEPCOUNT\n",
    "    If we put stepcount as 2 then every 2 nd element in the list will be eliminated and alternate elements can be displayed\n",
    "    Similarly if stepcount is 3 then every 3 rd element in the list will be eliminated"
   ]
  },
  {
   "cell_type": "code",
   "execution_count": 26,
   "id": "489b9bd2",
   "metadata": {},
   "outputs": [
    {
     "name": "stdout",
     "output_type": "stream",
     "text": [
      "['Ammu', 'Asna', 'Rafi']\n"
     ]
    }
   ],
   "source": [
    "print(Students[0:6:2])"
   ]
  },
  {
   "cell_type": "code",
   "execution_count": 30,
   "id": "64d8fcb0",
   "metadata": {},
   "outputs": [
    {
     "name": "stdout",
     "output_type": "stream",
     "text": [
      "['Ammu', 'Jinu']\n"
     ]
    }
   ],
   "source": [
    "print(Students[0:6:3])"
   ]
  },
  {
   "cell_type": "code",
   "execution_count": null,
   "id": "62323824",
   "metadata": {},
   "outputs": [],
   "source": [
    "I have a DOUBT: Every 3rd element should be eliminated when stepcount is 3 .Then Asna and anu should be eliminated \n",
    "                & Ammu ,Veda ,Jinu & Rafi should be printed right? Here only Ammu & Jinu is displayed.Why is it so?"
   ]
  },
  {
   "cell_type": "code",
   "execution_count": 31,
   "id": "e1a86e4a",
   "metadata": {},
   "outputs": [
    {
     "name": "stdout",
     "output_type": "stream",
     "text": [
      "['Ammu', 'veda', 'Asna', 'Jinu', 'Rafi', 'Anu']\n"
     ]
    }
   ],
   "source": [
    "print(Students)"
   ]
  },
  {
   "cell_type": "code",
   "execution_count": null,
   "id": "b0250678",
   "metadata": {},
   "outputs": [],
   "source": []
  }
 ],
 "metadata": {
  "kernelspec": {
   "display_name": "Python 3 (ipykernel)",
   "language": "python",
   "name": "python3"
  },
  "language_info": {
   "codemirror_mode": {
    "name": "ipython",
    "version": 3
   },
   "file_extension": ".py",
   "mimetype": "text/x-python",
   "name": "python",
   "nbconvert_exporter": "python",
   "pygments_lexer": "ipython3",
   "version": "3.9.12"
  }
 },
 "nbformat": 4,
 "nbformat_minor": 5
}
