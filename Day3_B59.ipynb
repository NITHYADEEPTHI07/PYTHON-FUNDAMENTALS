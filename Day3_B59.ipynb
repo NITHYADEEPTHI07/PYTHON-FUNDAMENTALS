{
 "cells": [
  {
   "cell_type": "code",
   "execution_count": null,
   "id": "e46cf300",
   "metadata": {},
   "outputs": [],
   "source": [
    "STRING METHODS - String Methods are builtin programmes readily available in Python to use"
   ]
  },
  {
   "cell_type": "code",
   "execution_count": null,
   "id": "24754ad7",
   "metadata": {},
   "outputs": [],
   "source": [
    "1- 'type'Method - Type Method is used to check the datatype used in the code"
   ]
  },
  {
   "cell_type": "code",
   "execution_count": null,
   "id": "bf709efb",
   "metadata": {},
   "outputs": [],
   "source": [
    "    Example:"
   ]
  },
  {
   "cell_type": "code",
   "execution_count": 1,
   "id": "9c97c5fd",
   "metadata": {},
   "outputs": [
    {
     "name": "stdout",
     "output_type": "stream",
     "text": [
      "Nithya\n"
     ]
    },
    {
     "data": {
      "text/plain": [
       "str"
      ]
     },
     "execution_count": 1,
     "metadata": {},
     "output_type": "execute_result"
    }
   ],
   "source": [
    "name=\"Nithya\"\n",
    "print(name)\n",
    "type(name)"
   ]
  },
  {
   "cell_type": "code",
   "execution_count": null,
   "id": "78d5c339",
   "metadata": {},
   "outputs": [],
   "source": [
    "2- 'title'Method - Title Method is uesd to capitalize the first letter of every word capital ie,to standardize a sentence"
   ]
  },
  {
   "cell_type": "code",
   "execution_count": null,
   "id": "615a3490",
   "metadata": {},
   "outputs": [],
   "source": [
    "    Example:"
   ]
  },
  {
   "cell_type": "code",
   "execution_count": 3,
   "id": "d1124a8f",
   "metadata": {},
   "outputs": [
    {
     "name": "stdout",
     "output_type": "stream",
     "text": [
      "arun kumar\n"
     ]
    }
   ],
   "source": [
    "name = \"arun kumar\"\n",
    "print(name)"
   ]
  },
  {
   "cell_type": "code",
   "execution_count": null,
   "id": "93bd4a04",
   "metadata": {},
   "outputs": [],
   "source": [
    "Standardizing the name format using title method"
   ]
  },
  {
   "cell_type": "code",
   "execution_count": 4,
   "id": "2f46e322",
   "metadata": {},
   "outputs": [
    {
     "name": "stdout",
     "output_type": "stream",
     "text": [
      "Arun Kumar\n"
     ]
    }
   ],
   "source": [
    "name = \"arun kumar\"\n",
    "print(name.title())"
   ]
  },
  {
   "cell_type": "code",
   "execution_count": null,
   "id": "8c2a28d6",
   "metadata": {},
   "outputs": [],
   "source": [
    "3- 'upper'Method - Upper Method is used to change the string to uppercase"
   ]
  },
  {
   "cell_type": "code",
   "execution_count": null,
   "id": "f8ee48fe",
   "metadata": {},
   "outputs": [],
   "source": [
    "    Example:"
   ]
  },
  {
   "cell_type": "code",
   "execution_count": 8,
   "id": "42f63ed5",
   "metadata": {},
   "outputs": [
    {
     "name": "stdout",
     "output_type": "stream",
     "text": [
      "HAPPY BIRTHDAY\n"
     ]
    }
   ],
   "source": [
    "name = \"Happy Birthday\"\n",
    "print(name.upper())"
   ]
  },
  {
   "cell_type": "code",
   "execution_count": null,
   "id": "5d383e7f",
   "metadata": {},
   "outputs": [],
   "source": [
    "4- 'lower'Method - Lower Method is used to change the string to lowercase"
   ]
  },
  {
   "cell_type": "code",
   "execution_count": null,
   "id": "bb934a43",
   "metadata": {},
   "outputs": [],
   "source": [
    "    Example:"
   ]
  },
  {
   "cell_type": "code",
   "execution_count": 7,
   "id": "b1e79c30",
   "metadata": {},
   "outputs": [
    {
     "name": "stdout",
     "output_type": "stream",
     "text": [
      "happy birthday\n"
     ]
    }
   ],
   "source": [
    "message = \"Happy Birthday\"\n",
    "print(message.lower())"
   ]
  },
  {
   "cell_type": "code",
   "execution_count": null,
   "id": "5a473c4f",
   "metadata": {},
   "outputs": [],
   "source": [
    "f Strings - General Synatax: f\" custom message {placeholder1} {placeholder2}....{placeholder...n}\"\n",
    "          - Individual words can be joined together to get a full string using f strings\n",
    "          - Custom message is message that can be added before a string using f strings eg:Excellent work, Priya Gandhi"
   ]
  },
  {
   "cell_type": "code",
   "execution_count": null,
   "id": "7864bd1c",
   "metadata": {},
   "outputs": [],
   "source": [
    "   Example:"
   ]
  },
  {
   "cell_type": "code",
   "execution_count": 12,
   "id": "635acd82",
   "metadata": {},
   "outputs": [
    {
     "name": "stdout",
     "output_type": "stream",
     "text": [
      "Priya Gandhi\n"
     ]
    }
   ],
   "source": [
    "firstname = \"Priya \"\n",
    "lastname = \"Gandhi\"\n",
    "full_name = f\"{firstname}{lastname}\"\n",
    "print(full_name)"
   ]
  },
  {
   "cell_type": "code",
   "execution_count": null,
   "id": "a0df3729",
   "metadata": {},
   "outputs": [],
   "source": [
    "Custom Message Included Example:"
   ]
  },
  {
   "cell_type": "code",
   "execution_count": 14,
   "id": "7877174b",
   "metadata": {},
   "outputs": [
    {
     "name": "stdout",
     "output_type": "stream",
     "text": [
      "Excellent Work,Priya Gandhi\n"
     ]
    }
   ],
   "source": [
    "message = f\"Excellent Work,{full_name}\"\n",
    "print(message)"
   ]
  },
  {
   "cell_type": "code",
   "execution_count": null,
   "id": "7b9fe589",
   "metadata": {},
   "outputs": [],
   "source": [
    "ADDING WHITE SPACES TO STRINGS"
   ]
  },
  {
   "cell_type": "code",
   "execution_count": null,
   "id": "dc621109",
   "metadata": {},
   "outputs": [],
   "source": [
    "\\n - NEW LINE DELIMITER (To print the string line by line) "
   ]
  },
  {
   "cell_type": "code",
   "execution_count": null,
   "id": "448439e5",
   "metadata": {},
   "outputs": [],
   "source": [
    "    Example:"
   ]
  },
  {
   "cell_type": "code",
   "execution_count": 15,
   "id": "2546bd0c",
   "metadata": {},
   "outputs": [
    {
     "name": "stdout",
     "output_type": "stream",
     "text": [
      "Student_Names: Aariv Veda Priya Shiva Meera Mithra\n"
     ]
    }
   ],
   "source": [
    "print(\"Student_Names: Aariv Veda Priya Shiva Meera Mithra\" )"
   ]
  },
  {
   "cell_type": "code",
   "execution_count": null,
   "id": "7d772512",
   "metadata": {},
   "outputs": [],
   "source": [
    "Line by line Display using \\n"
   ]
  },
  {
   "cell_type": "code",
   "execution_count": 16,
   "id": "a7cb4975",
   "metadata": {},
   "outputs": [
    {
     "name": "stdout",
     "output_type": "stream",
     "text": [
      "Student_Names:\n",
      " Aariv\n",
      " Veda\n",
      " Priya\n",
      " Shiva\n",
      " Meera\n",
      " Mithra\n"
     ]
    }
   ],
   "source": [
    "print(\"Student_Names:\\n Aariv\\n Veda\\n Priya\\n Shiva\\n Meera\\n Mithra\")"
   ]
  },
  {
   "cell_type": "code",
   "execution_count": null,
   "id": "f9d52924",
   "metadata": {},
   "outputs": [],
   "source": [
    "\\t -TAB DELIMITER(To make a tab space before lines)"
   ]
  },
  {
   "cell_type": "code",
   "execution_count": null,
   "id": "8dabd9ea",
   "metadata": {},
   "outputs": [],
   "source": [
    "    Example:"
   ]
  },
  {
   "cell_type": "code",
   "execution_count": 18,
   "id": "bd8adb35",
   "metadata": {},
   "outputs": [
    {
     "name": "stdout",
     "output_type": "stream",
     "text": [
      "Student_Names:\n",
      "\t Aariv\n",
      "\t Veda\n",
      "\t Priya\n",
      "\t Shiva\n",
      "\t Meera\n",
      "\t Mithra\n"
     ]
    }
   ],
   "source": [
    "print(\"Student_Names:\\n\\t Aariv\\n\\t Veda\\n\\t Priya\\n\\t Shiva\\n\\t Meera\\n\\t Mithra\")"
   ]
  },
  {
   "cell_type": "code",
   "execution_count": null,
   "id": "b13f23c4",
   "metadata": {},
   "outputs": [],
   "source": []
  }
 ],
 "metadata": {
  "kernelspec": {
   "display_name": "Python 3 (ipykernel)",
   "language": "python",
   "name": "python3"
  },
  "language_info": {
   "codemirror_mode": {
    "name": "ipython",
    "version": 3
   },
   "file_extension": ".py",
   "mimetype": "text/x-python",
   "name": "python",
   "nbconvert_exporter": "python",
   "pygments_lexer": "ipython3",
   "version": "3.9.12"
  }
 },
 "nbformat": 4,
 "nbformat_minor": 5
}
