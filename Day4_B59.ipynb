{
 "cells": [
  {
   "cell_type": "code",
   "execution_count": null,
   "id": "aed9ea5f",
   "metadata": {},
   "outputs": [],
   "source": [
    "LIST DATATYPE:- A list is a collection of items declared in a particular order by the concept of Indexing\n",
    "    \n",
    "              - List is a mutable datatype.ie,it can be modified.\n",
    "        \n",
    "              - We can declare the List datatype by using [] square bracket."
   ]
  },
  {
   "cell_type": "code",
   "execution_count": 1,
   "id": "024a1ec1",
   "metadata": {},
   "outputs": [
    {
     "name": "stdout",
     "output_type": "stream",
     "text": [
      "['Anju', 'Safi', 'Mithu', 'Pournami', 'Anika']\n"
     ]
    }
   ],
   "source": [
    "Students = ['Anju','Safi','Mithu','Pournami','Anika']\n",
    "\n",
    "print(Students)"
   ]
  },
  {
   "cell_type": "code",
   "execution_count": null,
   "id": "8e7b7982",
   "metadata": {},
   "outputs": [],
   "source": [
    "To check the datatype of the List we have to use 'type' method"
   ]
  },
  {
   "cell_type": "code",
   "execution_count": 2,
   "id": "55d3f45f",
   "metadata": {},
   "outputs": [
    {
     "data": {
      "text/plain": [
       "list"
      ]
     },
     "execution_count": 2,
     "metadata": {},
     "output_type": "execute_result"
    }
   ],
   "source": [
    "type(Students)"
   ]
  },
  {
   "cell_type": "code",
   "execution_count": null,
   "id": "1a3ab0a8",
   "metadata": {},
   "outputs": [],
   "source": [
    "To access the elements from the list we have to know the method of INDEXING\n",
    "\n",
    "An Index starts from the value 0.ie the first element in the list will be in the 0 th index,next 1st ,next 2nd......\n",
    "\n",
    "In the above list Anju is in the index 0 ,Safi 1....Anika 4 ."
   ]
  },
  {
   "cell_type": "code",
   "execution_count": null,
   "id": "c46a9674",
   "metadata": {},
   "outputs": [],
   "source": [
    "Eg: To access 'Mithu'from the above list\n",
    "    \n",
    "    Soln: The index no: of Mithu is 2"
   ]
  },
  {
   "cell_type": "code",
   "execution_count": 3,
   "id": "39da5f5f",
   "metadata": {},
   "outputs": [
    {
     "name": "stdout",
     "output_type": "stream",
     "text": [
      "Mithu\n"
     ]
    }
   ],
   "source": [
    "print(Students[2])"
   ]
  },
  {
   "cell_type": "code",
   "execution_count": null,
   "id": "d3219f9a",
   "metadata": {},
   "outputs": [],
   "source": [
    "Title method can be used to format the list elements in the correct manner"
   ]
  },
  {
   "cell_type": "code",
   "execution_count": 12,
   "id": "39053603",
   "metadata": {},
   "outputs": [
    {
     "name": "stdout",
     "output_type": "stream",
     "text": [
      "mithu\n"
     ]
    }
   ],
   "source": [
    "Students = ['Anju','Safi','mithu','Pournami','Anika']\n",
    "\n",
    "print(Students[2])"
   ]
  },
  {
   "cell_type": "code",
   "execution_count": 9,
   "id": "2be34467",
   "metadata": {},
   "outputs": [
    {
     "name": "stdout",
     "output_type": "stream",
     "text": [
      "Mithu\n"
     ]
    }
   ],
   "source": [
    "print((Students[2]).title())"
   ]
  },
  {
   "cell_type": "code",
   "execution_count": null,
   "id": "9c134852",
   "metadata": {},
   "outputs": [],
   "source": [
    "'APPEND METHOD' & 'INSERT METHOD 'are used to add elements to the list\n",
    "\n",
    "The Difference is that Append method is used to insert an element to the end of the list but Insert method is used to insert\n",
    "an element to any index or position in the list."
   ]
  },
  {
   "cell_type": "code",
   "execution_count": null,
   "id": "7a09c00d",
   "metadata": {},
   "outputs": [],
   "source": [
    "We are going to insert 'Sachin'to the above list \\\\append method is used"
   ]
  },
  {
   "cell_type": "code",
   "execution_count": 13,
   "id": "4d49a4fb",
   "metadata": {},
   "outputs": [
    {
     "name": "stdout",
     "output_type": "stream",
     "text": [
      "['Anju', 'Safi', 'mithu', 'Pournami', 'Anika']\n"
     ]
    }
   ],
   "source": [
    "print(Students)"
   ]
  },
  {
   "cell_type": "code",
   "execution_count": 14,
   "id": "3235ebcf",
   "metadata": {},
   "outputs": [
    {
     "name": "stdout",
     "output_type": "stream",
     "text": [
      "['Anju', 'Safi', 'mithu', 'Pournami', 'Anika', 'Sachin']\n"
     ]
    }
   ],
   "source": [
    "Students.append('Sachin')\n",
    "\n",
    "print(Students)"
   ]
  },
  {
   "cell_type": "code",
   "execution_count": null,
   "id": "34f69ee4",
   "metadata": {},
   "outputs": [],
   "source": [
    "We have to add 'Lechu' to the 2 nd index of the list \\\\insert method is used"
   ]
  },
  {
   "cell_type": "code",
   "execution_count": 15,
   "id": "886bc44b",
   "metadata": {},
   "outputs": [
    {
     "name": "stdout",
     "output_type": "stream",
     "text": [
      "Lechu\n"
     ]
    }
   ],
   "source": [
    "Students .insert(2,'Lechu')\n",
    "\n",
    "print(Students[2])"
   ]
  },
  {
   "cell_type": "code",
   "execution_count": null,
   "id": "a90f7177",
   "metadata": {},
   "outputs": [],
   "source": [
    "MODIFYING THE LIST "
   ]
  },
  {
   "cell_type": "code",
   "execution_count": null,
   "id": "0c3545f2",
   "metadata": {},
   "outputs": [],
   "source": [
    "We have to modify the name 'Safi'to 'Shaheen'\n",
    "\n",
    "Soln: Safi is in the 1 st index "
   ]
  },
  {
   "cell_type": "code",
   "execution_count": 16,
   "id": "dd4ee728",
   "metadata": {},
   "outputs": [
    {
     "name": "stdout",
     "output_type": "stream",
     "text": [
      "Safi\n"
     ]
    }
   ],
   "source": [
    "print(Students[1])"
   ]
  },
  {
   "cell_type": "code",
   "execution_count": 17,
   "id": "f42fa944",
   "metadata": {},
   "outputs": [
    {
     "name": "stdout",
     "output_type": "stream",
     "text": [
      "Shaheen\n"
     ]
    }
   ],
   "source": [
    "Students[1]='Shaheen'\n",
    "\n",
    "print(Students[1])"
   ]
  },
  {
   "cell_type": "code",
   "execution_count": null,
   "id": "de651fac",
   "metadata": {},
   "outputs": [],
   "source": [
    "This is the concept of Mutable datatype"
   ]
  },
  {
   "cell_type": "code",
   "execution_count": null,
   "id": "fe90534a",
   "metadata": {},
   "outputs": [],
   "source": [
    "DELETING ELEMENTS FROM THE LIST - 'del'Method is used"
   ]
  },
  {
   "cell_type": "code",
   "execution_count": null,
   "id": "49cebc4d",
   "metadata": {},
   "outputs": [],
   "source": [
    "Delete the name 'Pournami from the list'\n",
    "\n",
    "Soln: The index no: of Pournami is 3"
   ]
  },
  {
   "cell_type": "code",
   "execution_count": 18,
   "id": "95d839d0",
   "metadata": {},
   "outputs": [
    {
     "name": "stdout",
     "output_type": "stream",
     "text": [
      "['Anju', 'Shaheen', 'Lechu', 'mithu', 'Pournami', 'Anika', 'Sachin']\n"
     ]
    }
   ],
   "source": [
    "print(Students)"
   ]
  },
  {
   "cell_type": "code",
   "execution_count": 20,
   "id": "50738303",
   "metadata": {},
   "outputs": [],
   "source": [
    "del(Students[3])"
   ]
  },
  {
   "cell_type": "code",
   "execution_count": 21,
   "id": "b273013d",
   "metadata": {},
   "outputs": [
    {
     "name": "stdout",
     "output_type": "stream",
     "text": [
      "['Anju', 'Shaheen', 'Lechu', 'Anika', 'Sachin']\n"
     ]
    }
   ],
   "source": [
    "print(Students)"
   ]
  },
  {
   "cell_type": "code",
   "execution_count": null,
   "id": "81bb7fc0",
   "metadata": {},
   "outputs": [],
   "source": []
  }
 ],
 "metadata": {
  "kernelspec": {
   "display_name": "Python 3 (ipykernel)",
   "language": "python",
   "name": "python3"
  },
  "language_info": {
   "codemirror_mode": {
    "name": "ipython",
    "version": 3
   },
   "file_extension": ".py",
   "mimetype": "text/x-python",
   "name": "python",
   "nbconvert_exporter": "python",
   "pygments_lexer": "ipython3",
   "version": "3.9.12"
  }
 },
 "nbformat": 4,
 "nbformat_minor": 5
}
