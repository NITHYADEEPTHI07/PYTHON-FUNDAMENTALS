{
 "cells": [
  {
   "cell_type": "code",
   "execution_count": 3,
   "id": "91958a45",
   "metadata": {},
   "outputs": [
    {
     "name": "stdout",
     "output_type": "stream",
     "text": [
      "Welcome to the Python World\n"
     ]
    }
   ],
   "source": [
    "print(\"Welcome to the Python World\")"
   ]
  },
  {
   "cell_type": "code",
   "execution_count": null,
   "id": "d1732fc2",
   "metadata": {},
   "outputs": [],
   "source": [
    "Adding two numbers"
   ]
  },
  {
   "cell_type": "code",
   "execution_count": 2,
   "id": "f738c110",
   "metadata": {},
   "outputs": [
    {
     "name": "stdout",
     "output_type": "stream",
     "text": [
      "5\n"
     ]
    }
   ],
   "source": [
    "x=2\n",
    "y=3\n",
    "z=x+y\n",
    "print(z)"
   ]
  },
  {
   "cell_type": "code",
   "execution_count": null,
   "id": "fe21c758",
   "metadata": {},
   "outputs": [],
   "source": [
    "Rules for declaring Variables in Python"
   ]
  },
  {
   "cell_type": "code",
   "execution_count": null,
   "id": "dd4c0281",
   "metadata": {},
   "outputs": [],
   "source": [
    "Rule no:1-No namespaces while declaring the variable"
   ]
  },
  {
   "cell_type": "code",
   "execution_count": 4,
   "id": "2e910cef",
   "metadata": {},
   "outputs": [
    {
     "ename": "SyntaxError",
     "evalue": "invalid syntax (1002701147.py, line 1)",
     "output_type": "error",
     "traceback": [
      "\u001b[1;36m  Input \u001b[1;32mIn [4]\u001b[1;36m\u001b[0m\n\u001b[1;33m    first name=\"Nithya\"\u001b[0m\n\u001b[1;37m          ^\u001b[0m\n\u001b[1;31mSyntaxError\u001b[0m\u001b[1;31m:\u001b[0m invalid syntax\n"
     ]
    }
   ],
   "source": [
    "first name=\"Nithya\"\n",
    "print(first name)"
   ]
  },
  {
   "cell_type": "code",
   "execution_count": null,
   "id": "13c04c30",
   "metadata": {},
   "outputs": [],
   "source": [
    "Correction"
   ]
  },
  {
   "cell_type": "code",
   "execution_count": 5,
   "id": "df4d594d",
   "metadata": {},
   "outputs": [
    {
     "name": "stdout",
     "output_type": "stream",
     "text": [
      "Nithya\n"
     ]
    }
   ],
   "source": [
    "firstname=\"Nithya\"\n",
    "print(firstname)"
   ]
  },
  {
   "cell_type": "code",
   "execution_count": null,
   "id": "9e4dcc18",
   "metadata": {},
   "outputs": [],
   "source": [
    "Rule no:2-A variable name should not start with a number "
   ]
  },
  {
   "cell_type": "code",
   "execution_count": 6,
   "id": "17f10808",
   "metadata": {},
   "outputs": [
    {
     "ename": "SyntaxError",
     "evalue": "invalid syntax (3226642595.py, line 1)",
     "output_type": "error",
     "traceback": [
      "\u001b[1;36m  Input \u001b[1;32mIn [6]\u001b[1;36m\u001b[0m\n\u001b[1;33m    1name=\"Nithya\"\u001b[0m\n\u001b[1;37m     ^\u001b[0m\n\u001b[1;31mSyntaxError\u001b[0m\u001b[1;31m:\u001b[0m invalid syntax\n"
     ]
    }
   ],
   "source": [
    "1name=\"Nithya\"\n",
    "print(1name)"
   ]
  },
  {
   "cell_type": "code",
   "execution_count": null,
   "id": "10fa3cd3",
   "metadata": {},
   "outputs": [],
   "source": [
    "Correction"
   ]
  },
  {
   "cell_type": "code",
   "execution_count": 9,
   "id": "3151d6fd",
   "metadata": {},
   "outputs": [
    {
     "name": "stdout",
     "output_type": "stream",
     "text": [
      "Nithya\n",
      "Meera\n"
     ]
    }
   ],
   "source": [
    "name1 =\"Nithya\"\n",
    "print(name1)\n",
    "name=\"Meera\"\n",
    "print(name)"
   ]
  },
  {
   "cell_type": "code",
   "execution_count": null,
   "id": "115b8bc5",
   "metadata": {},
   "outputs": [],
   "source": [
    "//We can use number after a Variable name"
   ]
  },
  {
   "cell_type": "code",
   "execution_count": null,
   "id": "b441fa86",
   "metadata": {},
   "outputs": [],
   "source": [
    "Rule No:3-A variable name should not contain any special character eg: @ % $ & # etc"
   ]
  },
  {
   "cell_type": "code",
   "execution_count": 10,
   "id": "2befccf1",
   "metadata": {},
   "outputs": [
    {
     "ename": "SyntaxError",
     "evalue": "invalid syntax (2111112483.py, line 2)",
     "output_type": "error",
     "traceback": [
      "\u001b[1;36m  Input \u001b[1;32mIn [10]\u001b[1;36m\u001b[0m\n\u001b[1;33m    print(name*)\u001b[0m\n\u001b[1;37m               ^\u001b[0m\n\u001b[1;31mSyntaxError\u001b[0m\u001b[1;31m:\u001b[0m invalid syntax\n"
     ]
    }
   ],
   "source": [
    "name*= \"Nithya\"\n",
    "print(name*)"
   ]
  },
  {
   "cell_type": "code",
   "execution_count": null,
   "id": "d0ca6906",
   "metadata": {},
   "outputs": [],
   "source": [
    "Correction"
   ]
  },
  {
   "cell_type": "code",
   "execution_count": 11,
   "id": "d65a6a09",
   "metadata": {},
   "outputs": [
    {
     "name": "stdout",
     "output_type": "stream",
     "text": [
      "Nithya\n"
     ]
    }
   ],
   "source": [
    "name=\"Nithya\"\n",
    "print(name)"
   ]
  },
  {
   "cell_type": "code",
   "execution_count": null,
   "id": "59d2c852",
   "metadata": {},
   "outputs": [],
   "source": [
    "Datatypes in Python"
   ]
  },
  {
   "cell_type": "code",
   "execution_count": null,
   "id": "e04e1d63",
   "metadata": {},
   "outputs": [],
   "source": [
    "String Datatype-Is a series of Characters , Immutable(Neither Edit nor Alter/Flexible in nature)\n",
    "3 Appraoches for declaring a string datatype-Using Single quotes ,Using Double quotes,Using Triple quotes.\n",
    "Its the Programmers choice to select which quote to be used"
   ]
  },
  {
   "cell_type": "code",
   "execution_count": 13,
   "id": "f6e24fb2",
   "metadata": {},
   "outputs": [
    {
     "name": "stdout",
     "output_type": "stream",
     "text": [
      "Nithya\n",
      "Meera\n",
      "Aariv\n"
     ]
    }
   ],
   "source": [
    "name1 = 'Nithya'\n",
    "name2 = \"Meera\"\n",
    "name3 = '''Aariv'''\n",
    "print(name1)\n",
    "print(name2)\n",
    "print(name3)"
   ]
  },
  {
   "cell_type": "code",
   "execution_count": null,
   "id": "c7d656ec",
   "metadata": {},
   "outputs": [],
   "source": []
  }
 ],
 "metadata": {
  "kernelspec": {
   "display_name": "Python 3 (ipykernel)",
   "language": "python",
   "name": "python3"
  },
  "language_info": {
   "codemirror_mode": {
    "name": "ipython",
    "version": 3
   },
   "file_extension": ".py",
   "mimetype": "text/x-python",
   "name": "python",
   "nbconvert_exporter": "python",
   "pygments_lexer": "ipython3",
   "version": "3.9.12"
  }
 },
 "nbformat": 4,
 "nbformat_minor": 5
}
